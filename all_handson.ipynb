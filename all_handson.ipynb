{
 "cells": [
  {
   "cell_type": "code",
   "execution_count": 1,
   "metadata": {},
   "outputs": [
    {
     "name": "stdout",
     "output_type": "stream",
     "text": [
      "hello world\n"
     ]
    }
   ],
   "source": [
    "print(\"hello world\")\n"
   ]
  },
  {
   "cell_type": "code",
   "execution_count": 1,
   "metadata": {},
   "outputs": [
    {
     "name": "stdout",
     "output_type": "stream",
     "text": [
      "3.12.5 (tags/v3.12.5:ff3bc82, Aug  6 2024, 20:45:27) [MSC v.1940 64 bit (AMD64)]\n"
     ]
    }
   ],
   "source": [
    "import sys\n",
    "print(sys.version)\n"
   ]
  },
  {
   "cell_type": "code",
   "execution_count": 6,
   "metadata": {},
   "outputs": [
    {
     "name": "stdout",
     "output_type": "stream",
     "text": [
      "0\n",
      "20\n"
     ]
    }
   ],
   "source": [
    "x,y,z=5,15,0\n",
    "print (z)\n",
    "z=x+y\n",
    "print(x+y)\n"
   ]
  },
  {
   "cell_type": "code",
   "execution_count": 3,
   "metadata": {},
   "outputs": [
    {
     "name": "stdout",
     "output_type": "stream",
     "text": [
      "Nitdal\n"
     ]
    }
   ],
   "source": [
    "#example of string slicing and string concatenation.\n",
    "\n",
    "name='Nitish Pardal'\n",
    "alias=name[0:3]+name[10:13]\n",
    "print (alias)\n"
   ]
  },
  {
   "cell_type": "markdown",
   "metadata": {},
   "source": [
    "This is a markdown which is meant to write the normal text inside a jupyter notebook , same as a notepad notes.\n",
    "This is will not be included in the code part and still will appear ont the notebook."
   ]
  },
  {
   "cell_type": "code",
   "execution_count": 6,
   "metadata": {},
   "outputs": [
    {
     "name": "stdout",
     "output_type": "stream",
     "text": [
      "NITISH\n",
      "2\n",
      "abC\n",
      "1.0\n",
      "Fun P\n"
     ]
    }
   ],
   "source": [
    "print('nitish'.upper())\n",
    "print(str(1+1))\n",
    "print('ABC'.replace(\"AB\",\"ab\"))\n",
    "x=2/2\n",
    "print(x)\n",
    "string = \"Fun Python\"\n",
    "print(string[0:5])\n"
   ]
  },
  {
   "cell_type": "code",
   "execution_count": 6,
   "metadata": {},
   "outputs": [
    {
     "name": "stdout",
     "output_type": "stream",
     "text": [
      "<class 'tuple'>\n",
      "rock\n",
      "('disco', (1, 2))\n",
      "(1, 2)\n",
      "1\n"
     ]
    }
   ],
   "source": [
    "tuple1=(1,2,(\"pop\",\"rock\"),(3,4),(\"disco\",(1,2)))\n",
    "print(type(tuple1))\n",
    "print(tuple1[2][1])\n",
    "print(tuple1[4])\n",
    "print(tuple1[4][1])\n",
    "print(tuple1[4][1][0])"
   ]
  },
  {
   "cell_type": "markdown",
   "metadata": {},
   "source": [
    "tuples and lists:"
   ]
  },
  {
   "cell_type": "code",
   "execution_count": 18,
   "metadata": {},
   "outputs": [
    {
     "name": "stdout",
     "output_type": "stream",
     "text": [
      "(0, 1)\n",
      "['a', 'b']\n",
      "['A', 'b', 'c']\n",
      "['A', 'B', 'C', 'A', 'B', 'C']\n"
     ]
    }
   ],
   "source": [
    "A=(0,1,2,3)\n",
    "print(A[0:2])\n",
    "l=['a','b','c']\n",
    "print(l[0:2])\n",
    "l[0]='A'\n",
    "print(l)\n",
    "set1=set(['A','B','C','A','B','C'])  \n",
    "print(list)\n"
   ]
  },
  {
   "cell_type": "code",
   "execution_count": 3,
   "metadata": {},
   "outputs": [
    {
     "name": "stdout",
     "output_type": "stream",
     "text": [
      "[1, 1, 1]\n"
     ]
    }
   ],
   "source": [
    "list1=[1,1,1,2,3,1,1]\n",
    "list2=[]\n",
    "i=0\n",
    "while (list1[i]==1):\n",
    "  list2.append(list1[i])\n",
    "  i=i+1\n",
    "print (list2)"
   ]
  },
  {
   "cell_type": "code",
   "execution_count": 6,
   "metadata": {},
   "outputs": [
    {
     "name": "stdout",
     "output_type": "stream",
     "text": [
      "10\n",
      "9.5\n",
      "10\n",
      "8\n",
      "7.5\n"
     ]
    }
   ],
   "source": [
    "PlayListRatings = [10, 9.5, 10, 8, 7.5, 5, 10, 10]\n",
    "i=0\n",
    "rating=PlayListRatings[0]\n",
    "while (i<len(PlayListRatings) and rating >=6):\n",
    "    print (rating)\n",
    "    i=i+1\n",
    "    rating=PlayListRatings[i]\n",
    "    #i=i+1"
   ]
  },
  {
   "cell_type": "code",
   "execution_count": 7,
   "metadata": {},
   "outputs": [
    {
     "name": "stdout",
     "output_type": "stream",
     "text": [
      "['orange', 'orange']\n"
     ]
    }
   ],
   "source": [
    "# Write your code below and press Shift+Enter to execute\n",
    "\n",
    "squares = ['orange', 'orange', 'purple', 'blue ', 'orange']\n",
    "new_squares = []\n",
    "i=0\n",
    "while (squares[i] == 'orange'):\n",
    "    new_squares.append(squares[i])\n",
    "    i+=1\n",
    "print(new_squares)\n"
   ]
  },
  {
   "cell_type": "code",
   "execution_count": 13,
   "metadata": {},
   "outputs": [
    {
     "name": "stdout",
     "output_type": "stream",
     "text": [
      "little\n",
      "little\n",
      "little\n",
      "little\n",
      "4\n"
     ]
    }
   ],
   "source": [
    "string1 = \"Mary had a little lamb little lamb, little lamb Mary had a little lamb.Its fleece was white as snow And everywhere that Mary went Mary went, Mary went Everywhere that Mary went The lamb was sure to go\"\n",
    "def freq(word):\n",
    "    words=string1.split()\n",
    "    count =0\n",
    "    for i in words:\n",
    "        if (i == word):\n",
    "          count=count+1\n",
    "    print(count)\n",
    "freq(\"little\")"
   ]
  },
  {
   "cell_type": "code",
   "execution_count": 6,
   "metadata": {},
   "outputs": [
    {
     "name": "stdout",
     "output_type": "stream",
     "text": [
      "the type of value entered is wrong\n",
      "None\n"
     ]
    }
   ],
   "source": [
    "def safe_divide(num,den):\n",
    "    try:\n",
    "        result=num/den\n",
    "        return result\n",
    "    except ZeroDivisionError:\n",
    "        print(\"Error: Cannot divide by Zero\")\n",
    "    except TypeError:\n",
    "        print(\"the type of value entered is wrong\")\n",
    "    \n",
    "\n",
    "numerator=input(\"enter the numerator\")\n",
    "denominator=input(\"enter the demoninator\")\n",
    "print(safe_divide(numerator,denominator))"
   ]
  },
  {
   "cell_type": "code",
   "execution_count": 8,
   "metadata": {},
   "outputs": [
    {
     "name": "stdout",
     "output_type": "stream",
     "text": [
      "'Invalid input! Please enter a positive integer or a float value.\n"
     ]
    }
   ],
   "source": [
    "#Type your code here\n",
    "import math\n",
    "def squareroot(numer1):\n",
    "    try :\n",
    "        sqrt=math.sqrt(numer1)\n",
    "        return sqrt\n",
    "    except ValueError:\n",
    "        return (\"'Invalid input! Please enter a positive integer or a float value.\")\n",
    "n1=int(input(\"enter the number\"))\n",
    "print (squareroot(n1))"
   ]
  },
  {
   "cell_type": "code",
   "execution_count": 15,
   "metadata": {},
   "outputs": [
    {
     "name": "stdout",
     "output_type": "stream",
     "text": [
      "Result:2.6666666666666665\n"
     ]
    }
   ],
   "source": [
    "#Type your code here\n",
    "def mathematical(n):\n",
    "    try:\n",
    "        result=num/(num-5)\n",
    "        return (f\"Result:{result}\")\n",
    "    except Exception as e:\n",
    "        return e\n",
    "num=int(input(\"Enter your Number\"))\n",
    "print(mathematical(num))"
   ]
  },
  {
   "cell_type": "code",
   "execution_count": 12,
   "metadata": {},
   "outputs": [
    {
     "name": "stdout",
     "output_type": "stream",
     "text": [
      "8\n",
      "12\n"
     ]
    }
   ],
   "source": [
    "\n",
    "class rectangle (object):\n",
    "  def __init__(self,width,length,color):\n",
    "    self.width=width\n",
    "    self.length=length\n",
    "    self.color=color\n",
    "\n",
    "  def area(self):\n",
    "      return(self.length * self.width)\n",
    "\n",
    "\n",
    "redrectangle=rectangle(2,4,\"red\") \n",
    "print(redrectangle.area())\n",
    "\n",
    "bluerectangle=rectangle(3,4,\"blue\")\n",
    "print(bluerectangle.area())\n"
   ]
  },
  {
   "cell_type": "code",
   "execution_count": 62,
   "metadata": {},
   "outputs": [
    {
     "ename": "AttributeError",
     "evalue": "module 'matplotlib.pyplot' has no attribute 'circle'",
     "output_type": "error",
     "traceback": [
      "\u001b[1;31m---------------------------------------------------------------------------\u001b[0m",
      "\u001b[1;31mAttributeError\u001b[0m                            Traceback (most recent call last)",
      "Cell \u001b[1;32mIn[62], line 18\u001b[0m\n\u001b[0;32m     14\u001b[0m     plt\u001b[38;5;241m.\u001b[39mshow()   \n\u001b[0;32m     17\u001b[0m circle1\u001b[38;5;241m=\u001b[39mcircle(\u001b[38;5;241m5\u001b[39m,\u001b[38;5;124m\"\u001b[39m\u001b[38;5;124mred\u001b[39m\u001b[38;5;124m\"\u001b[39m)\n\u001b[1;32m---> 18\u001b[0m \u001b[43mcircle1\u001b[49m\u001b[38;5;241;43m.\u001b[39;49m\u001b[43mdrawcircle\u001b[49m\u001b[43m(\u001b[49m\u001b[43m)\u001b[49m\n",
      "Cell \u001b[1;32mIn[62], line 12\u001b[0m, in \u001b[0;36mcircle.drawcircle\u001b[1;34m(self)\u001b[0m\n\u001b[0;32m     11\u001b[0m \u001b[38;5;28;01mdef\u001b[39;00m \u001b[38;5;21mdrawcircle\u001b[39m(\u001b[38;5;28mself\u001b[39m):\n\u001b[1;32m---> 12\u001b[0m   plt\u001b[38;5;241m.\u001b[39mgca()\u001b[38;5;241m.\u001b[39madd_patch(\u001b[43mplt\u001b[49m\u001b[38;5;241;43m.\u001b[39;49m\u001b[43mcircle\u001b[49m((\u001b[38;5;241m0\u001b[39m, \u001b[38;5;241m0\u001b[39m), radius\u001b[38;5;241m=\u001b[39m\u001b[38;5;28mself\u001b[39m\u001b[38;5;241m.\u001b[39mradius, fc\u001b[38;5;241m=\u001b[39m\u001b[38;5;28mself\u001b[39m\u001b[38;5;241m.\u001b[39mcolor))\n\u001b[0;32m     13\u001b[0m   plt\u001b[38;5;241m.\u001b[39maxis(\u001b[38;5;124m'\u001b[39m\u001b[38;5;124mscaled\u001b[39m\u001b[38;5;124m'\u001b[39m)\n\u001b[0;32m     14\u001b[0m   plt\u001b[38;5;241m.\u001b[39mshow()\n",
      "\u001b[1;31mAttributeError\u001b[0m: module 'matplotlib.pyplot' has no attribute 'circle'"
     ]
    },
    {
     "data": {
      "image/png": "[encoded data removed]",
      "text/plain": [
       "<Figure size 640x480 with 1 Axes>"
      ]
     },
     "metadata": {},
     "output_type": "display_data"
    }
   ],
   "source": [
    "import matplotlib.pyplot as plt # type: ignore\n",
    "%matplotlib inline\n",
    "class circle(object):\n",
    "  def __init__(self,radius,color):\n",
    "    self.radius=radius\n",
    "    self.color=color\n",
    "\n",
    "  def area_circle(self):\n",
    "    return (self.radius*self.radius)\n",
    "  \n",
    "  def drawcircle(self):\n",
    "    plt.gca().add_patch(plt.circle((0, 0), radius=self.radius, fc=self.color))\n",
    "    plt.axis('scaled')\n",
    "    plt.show()   \n",
    "\n",
    "\n",
    "circle1=circle(5,\"red\")\n",
    "circle1.drawcircle()\n",
    "  "
   ]
  },
  {
   "cell_type": "code",
   "execution_count": 20,
   "metadata": {},
   "outputs": [
    {
     "name": "stdout",
     "output_type": "stream",
     "text": [
      "white\n",
      "white\n"
     ]
    }
   ],
   "source": [
    "class Vehicle (object):\n",
    "    color = \"white\"\n",
    "\n",
    "    def __init__(self, max_speed, mileage):\n",
    "        self.max_speed = max_speed\n",
    "        self.mileage = mileage\n",
    "\n",
    "car1=Vehicle(200,20)\n",
    "print(car1.color)\n",
    "\n",
    "car2=Vehicle(250,15)\n",
    "print(car2.color)\n",
    "\n",
    "        "
   ]
  },
  {
   "cell_type": "code",
   "execution_count": 21,
   "metadata": {},
   "outputs": [
    {
     "name": "stdout",
     "output_type": "stream",
     "text": [
      "80\n"
     ]
    }
   ],
   "source": [
    "class Graph():\n",
    "    def __init__(self, id):\n",
    "        self.id = id\n",
    "        self.id = 80\n",
    "\n",
    "\n",
    "val = Graph(200)\n",
    "print(val.id)"
   ]
  },
  {
   "cell_type": "code",
   "execution_count": 26,
   "metadata": {},
   "outputs": [
    {
     "name": "stdout",
     "output_type": "stream",
     "text": [
      "mileage= 2\n",
      "max speed= 1230\n",
      "capacity= 4\n"
     ]
    }
   ],
   "source": [
    "class vehicle (object):\n",
    "  def __init__(self,max_speed,mileage):\n",
    "    self.max_speed=max_speed\n",
    "    self.mileage=mileage\n",
    "    self.seating_capacity=None #the seating capacity is still not defined\n",
    "\n",
    "  def assign_seating_capacity(self,seating_capacity):\n",
    "    self.seating_capacity=seating_capacity\n",
    "\n",
    "  def print_all(self): # function to print all the assigned attibutes to the object of the class vehicle\n",
    "    print (\"mileage=\",self.mileage)\n",
    "    print (\"max speed=\",self.max_speed)\n",
    "    print(\"capacity=\",self.seating_capacity)\n",
    "\n",
    "\n",
    "\n",
    "car1= vehicle(1230,2)\n",
    "car1.assign_seating_capacity(4)\n",
    "car1.print_all()"
   ]
  },
  {
   "cell_type": "code",
   "execution_count": 1,
   "metadata": {},
   "outputs": [
    {
     "name": "stdout",
     "output_type": "stream",
     "text": [
      "False\n"
     ]
    }
   ],
   "source": [
    "x=1\n",
    "x=x>5\n",
    "print (x)"
   ]
  },
  {
   "cell_type": "code",
   "execution_count": 2,
   "metadata": {},
   "outputs": [
    {
     "name": "stdout",
     "output_type": "stream",
     "text": [
      "x= 1  y= 2\n"
     ]
    }
   ],
   "source": [
    "class Points(object): \n",
    "    def __init__(self, x, y): \n",
    "        self.x = x \n",
    "        self.y = y \n",
    "    def print_point(self): \n",
    "        print('x=', self.x, ' y=', self.y) \n",
    "\n",
    "\n",
    "p1 = Points(1, 2) \n",
    "p1.print_point()"
   ]
  },
  {
   "cell_type": "code",
   "execution_count": 3,
   "metadata": {},
   "outputs": [
    {
     "name": "stdout",
     "output_type": "stream",
     "text": [
      "1 A\n",
      "2 B\n",
      "3 C\n"
     ]
    }
   ],
   "source": [
    "for i, x in enumerate(['A', 'B', 'C']): \n",
    "    print(i + 1, x)\n",
    "    "
   ]
  },
  {
   "cell_type": "code",
   "execution_count": 4,
   "metadata": {},
   "outputs": [
    {
     "name": "stdout",
     "output_type": "stream",
     "text": [
      "x= 2  y= 2\n"
     ]
    }
   ],
   "source": [
    "class Points(object): \n",
    "    def __init__(self, x, y): \n",
    "        self.x = x \n",
    "        self.y = y \n",
    "    def print_point(self): \n",
    "        print('x=', self.x, ' y=', self.y) \n",
    "\n",
    "\n",
    "p2 = Points(1, 2) \n",
    "p2.x = 2 \n",
    "p2.print_point()"
   ]
  },
  {
   "cell_type": "code",
   "execution_count": 5,
   "metadata": {},
   "outputs": [
    {
     "name": "stdout",
     "output_type": "stream",
     "text": [
      "2\n"
     ]
    }
   ],
   "source": [
    "a = 1 \n",
    "\n",
    "\n",
    "def do(x): \n",
    "    return x + a \n",
    "\n",
    "\n",
    "print(do(1))"
   ]
  },
  {
   "cell_type": "markdown",
   "metadata": {},
   "source": [
    "Let's consider a real-life scenario where you are analyzing customer feedback for a product. You have a large data set of customer reviews in the form of strings, and you want to extract useful information from them using the three identified tasks:\n",
    "\n",
    "Task 1. String in lowercase: You want to pre-process the customer feedback by converting all the text to lowercase. This step helps standardize the text. Lower casing the text allows you to focus on the content rather than the specific letter casing.\n",
    "\n",
    "Task 2. Frequency of all words in a given string: After converting the text to lowercase, you want to determine the frequency of each word in the customer feedback. This information will help you identify which words are used more frequently, indicating the key aspects or topics that customers are mentioning in their reviews. By analyzing the word frequencies, you can gain insights into the most common issues raised by customers.\n",
    "\n",
    "Task 3. Frequency of a specific word: In addition to analyzing the overall word frequencies, you want to specifically track the frequency of a particular word that is relevant to your analysis. For example, you might be interested in monitoring how often the word \"reliable\" appears in customer reviews to gauge customer sentiment about the product's reliability. By focusing on the frequency of a specific word, you can gain a deeper understanding of customer opinions or preferences related to that particular aspect.\n",
    "\n",
    "By performing these tasks on the customer feedback dataset, you can gain valuable insights into customer sentiment"
   ]
  },
  {
   "cell_type": "code",
   "execution_count": 14,
   "metadata": {},
   "outputs": [
    {
     "name": "stdout",
     "output_type": "stream",
     "text": [
      "['lorem', 'ipsum', 'dolor', 'diam', 'amet', 'consetetur', 'lorem', 'magna', 'sed', 'diam', 'nonumy', 'eirmod', 'tempor', 'diam', 'et', 'labore', 'et', 'diam', 'magna', 'et', 'diam', 'amet']\n",
      "{'labore': 1, 'amet': 2, 'diam': 5, 'dolor': 1, 'magna': 2, 'tempor': 1, 'eirmod': 1, 'ipsum': 1, 'lorem': 2, 'consetetur': 1, 'sed': 1, 'et': 3, 'nonumy': 1}\n"
     ]
    }
   ],
   "source": [
    "class textAnalyzer(object):\n",
    "  def __init__(self,text):\n",
    "    self.text=text\n",
    "    #formatting the text , Replacing the punctuations \n",
    "    formatted_Text=text.replace(',','').replace('.','').replace('!','').replace('?','')\n",
    "    #converting all the text to lower case and assigning the text to the new attribut of the class.\n",
    "    self.fmtText=formatted_Text.lower()\n",
    "  def freqAll(self):\n",
    "    wordlist=self.fmtText.split(' ')\n",
    "\n",
    "    freqDict={} #defining dictionary to store the unique count of all the words present in the string\n",
    "    for word in set(wordlist): #making a set to remove any duplicate word in the list:wordlist\n",
    "      freqDict[word]=wordlist.count(word)#\n",
    "  \n",
    "    \n",
    "ob1=textAnalyzer(\"Lorem ipsum dolor! diam amet, consetetur Lorem magna. sed diam nonumy eirmod tempor. diam et labore? et diam magna. et diam amet.\")\n",
    "ob1.freqAll()"
   ]
  },
  {
   "cell_type": "code",
   "execution_count": 45,
   "metadata": {},
   "outputs": [
    {
     "name": "stdout",
     "output_type": "stream",
     "text": [
      "Hi , my name is Nitish.\n",
      "\n",
      "This is an example for testing the file funcions in python\n",
      "\n",
      "r\n",
      "C:\\Users\\nitis\\Desktop\\coursera_data analyst _course\\Handson-labs\\example1.txt\n",
      "\n"
     ]
    }
   ],
   "source": [
    "with open(r\"file_path\",\"r\") as file1:\n",
    "  #method1 of reading the whole file at a single time \n",
    "  for line in file1:\n",
    "    print (line)\n",
    "  #method 2 of reading the while file at a single time \n",
    "  file_stuff=file1.read()\n",
    "  print(file_stuff)\n",
    "  print(file1.mode)\n",
    "  print(file1.name)\n",
    "  fileAsList=file1.readline()\n",
    "  print (fileAsList)\n",
    "\n",
    "  "
   ]
  },
  {
   "cell_type": "code",
   "execution_count": 16,
   "metadata": {},
   "outputs": [
    {
     "name": "stdout",
     "output_type": "stream",
     "text": [
      "Hi , my name is Nitish.\n",
      "\n",
      "This is an example for testing the file funcions in python\n"
     ]
    }
   ],
   "source": [
    "#method to read the file line by line :\n",
    "with open(r\"C:\\Users\\nitis\\Desktop\\coursera_data analyst _course\\Handson-labs\\example1.txt\",\"r\") as file2:\n",
    "  line1=file2.readline()#reading the first line \n",
    "  print (line1)\n",
    "  line2=file2.readline()#reading the second line\n",
    "  print (line2)\n"
   ]
  },
  {
   "cell_type": "code",
   "execution_count": 39,
   "metadata": {},
   "outputs": [
    {
     "name": "stdout",
     "output_type": "stream",
     "text": [
      "Hi , \n",
      "my name is\n",
      "['m', 'y', 'n', 'a', 'm', 'e', 'i', 's']\n",
      " Nit\n",
      "Hi ,\n",
      "Hi ,\n",
      " my \n"
     ]
    }
   ],
   "source": [
    "#reading the specific words from the line \n",
    "with open (r\"file_path\",\"r\") as file3:\n",
    "  four_words=file3.readline(5) #reading the first 5 words from the first line in the file\n",
    "  first_10=file3.readline(10) #reading the first 10 words from the first line in the file \n",
    "  print (four_words)\n",
    "  print (first_10)\n",
    "  first_10=first_10.replace(' ','')\n",
    "  first_10_list = list(first_10)\n",
    "  print (first_10_list)\n",
    "  character=file3.read(4)\n",
    "  print(character)\n",
    "  #moving the file pointer :\n",
    "  file3.seek(0) #moving the pointer to the zeroth index\n",
    "  character2=file3.read(4)\n",
    "  print (character2)\n",
    "with open (r\"file_path\",\"r\") as file4:\n",
    "  print (file4.read(4)) # this reads the first 4 characters in the file\n",
    "  print (file4.read(4)) # this reads the next 4 characters in the file starting from the point where the last read/write was.\n",
    "  \n"
   ]
  },
  {
   "cell_type": "code",
   "execution_count": 54,
   "metadata": {},
   "outputs": [
    {
     "name": "stdout",
     "output_type": "stream",
     "text": [
      "e first line written from the code \n",
      "this is the second line written from the code \n",
      "this is third line \n",
      "this is fourth line \n",
      "\n"
     ]
    }
   ],
   "source": [
    "#writing to a file in python :\n",
    "file_path=r\"C:\\Users\\nitis\\Desktop\\coursera_data analyst _course\\Handson-labs\\example1.txt\"\n",
    "with open (file_path,\"w\") as file5:\n",
    "  # this deletes whatever was previously written in the file and write the new line \n",
    "  file5.write(\"this is the first line written from the code \\n\") #\\n is for adding a new line \n",
    "  file5.write(\"this is the second line written from the code \\n\")\n",
    "# Writing the file from the elements of the list ,\n",
    "  nameList = [\"this is third line \\n\",\"this is fourth line \\n\"]\n",
    "  for line in nameList:\n",
    "    file5.write(line)\n",
    "with open (r\"file_path\",\"r\") as file6: \n",
    "  file6.seek(10)\n",
    "  print (file6.read())\n"
   ]
  },
  {
   "cell_type": "code",
   "execution_count": null,
   "metadata": {},
   "outputs": [],
   "source": [
    "#copying one file to another.\n",
    "\n",
    "with open (r\"C:\\Users\\nitis\\Desktop\\coursera_data analyst _course\\Handson-labs\\example2.txt\",\"w\") as write_file:\n",
    "  with open (file_path,\"r\") as read_file:\n",
    "    for line in read_file:\n",
    "      write_file.write(line)"
   ]
  },
  {
   "cell_type": "code",
   "execution_count": 57,
   "metadata": {},
   "outputs": [],
   "source": [
    "#append mode: when you want to append the same file , and do not want to create a new file:\n",
    "\n",
    "with open (r\"C:\\Users\\nitis\\Desktop\\coursera_data analyst _course\\Handson-labs\\example2.txt\",\"a\") as file8:\n",
    "  file8.write(\"this text is written in the append mode\")\n",
    "  "
   ]
  },
  {
   "cell_type": "code",
   "execution_count": 13,
   "metadata": {},
   "outputs": [
    {
     "data": {
      "text/html": [
       "<div>\n",
       "<style scoped>\n",
       "    .dataframe tbody tr th:only-of-type {\n",
       "        vertical-align: middle;\n",
       "    }\n",
       "\n",
       "    .dataframe tbody tr th {\n",
       "        vertical-align: top;\n",
       "    }\n",
       "\n",
       "    .dataframe thead th {\n",
       "        text-align: right;\n",
       "    }\n",
       "</style>\n",
       "<table border=\"1\" class=\"dataframe\">\n",
       "  <thead>\n",
       "    <tr style=\"text-align: right;\">\n",
       "      <th></th>\n",
       "      <th>Sr No</th>\n",
       "      <th>Date</th>\n",
       "      <th>Startup Name</th>\n",
       "      <th>Industry Vertical</th>\n",
       "      <th>SubVertical</th>\n",
       "      <th>City  Location</th>\n",
       "      <th>Investors Name</th>\n",
       "      <th>InvestmentnType</th>\n",
       "      <th>Amount in USD</th>\n",
       "      <th>Remarks</th>\n",
       "      <th>Column1</th>\n",
       "      <th>Column2</th>\n",
       "      <th>Column3</th>\n",
       "    </tr>\n",
       "  </thead>\n",
       "  <tbody>\n",
       "    <tr>\n",
       "      <th>0</th>\n",
       "      <td>17</td>\n",
       "      <td>2019-12-20</td>\n",
       "      <td>Lenskart.com</td>\n",
       "      <td>E-Commerce</td>\n",
       "      <td>Online Eyewear Shopping Portal</td>\n",
       "      <td>Faridabad</td>\n",
       "      <td>SoftBank Vision Fund</td>\n",
       "      <td>Series G</td>\n",
       "      <td>231000000</td>\n",
       "      <td>NaN</td>\n",
       "      <td>VLOOKUP</td>\n",
       "      <td>Startup Name</td>\n",
       "      <td>Amount in USD</td>\n",
       "    </tr>\n",
       "    <tr>\n",
       "      <th>1</th>\n",
       "      <td>12</td>\n",
       "      <td>2019-12-17</td>\n",
       "      <td>Healthians</td>\n",
       "      <td>B2B-focused foodtech startup</td>\n",
       "      <td>Food Solutions For Corporate</td>\n",
       "      <td>Bengaluru</td>\n",
       "      <td>Paytm, NPTK, Sabre Partners and Neoplux</td>\n",
       "      <td>Series C</td>\n",
       "      <td>12000000</td>\n",
       "      <td>NaN</td>\n",
       "      <td>NaN</td>\n",
       "      <td>Rein Games</td>\n",
       "      <td>50000000</td>\n",
       "    </tr>\n",
       "    <tr>\n",
       "      <th>2</th>\n",
       "      <td>13</td>\n",
       "      <td>2019-12-16</td>\n",
       "      <td>Licious</td>\n",
       "      <td>E-Commerce</td>\n",
       "      <td>Online Meat And Seafood Ordering Startup</td>\n",
       "      <td>Bengaluru</td>\n",
       "      <td>Vertex Growth Fund</td>\n",
       "      <td>Series E</td>\n",
       "      <td>30000000</td>\n",
       "      <td>NaN</td>\n",
       "      <td>NaN</td>\n",
       "      <td>CarDekho</td>\n",
       "      <td>70000000</td>\n",
       "    </tr>\n",
       "    <tr>\n",
       "      <th>3</th>\n",
       "      <td>14</td>\n",
       "      <td>2019-12-16</td>\n",
       "      <td>InCred</td>\n",
       "      <td>Finance</td>\n",
       "      <td>Non-Banking Financial Company</td>\n",
       "      <td>Mumbai</td>\n",
       "      <td>NaN</td>\n",
       "      <td>Debt Funding</td>\n",
       "      <td>5900000</td>\n",
       "      <td>NaN</td>\n",
       "      <td>NaN</td>\n",
       "      <td>Dhruva Space</td>\n",
       "      <td>50000000</td>\n",
       "    </tr>\n",
       "    <tr>\n",
       "      <th>4</th>\n",
       "      <td>15</td>\n",
       "      <td>2019-12-14</td>\n",
       "      <td>Trell</td>\n",
       "      <td>Video</td>\n",
       "      <td>Experience Discovery Platform</td>\n",
       "      <td>Bengaluru</td>\n",
       "      <td>Ruizheng Investment</td>\n",
       "      <td>Seed Round</td>\n",
       "      <td>2000000</td>\n",
       "      <td>NaN</td>\n",
       "      <td>NaN</td>\n",
       "      <td>Paytm</td>\n",
       "      <td>1000000000</td>\n",
       "    </tr>\n",
       "  </tbody>\n",
       "</table>\n",
       "</div>"
      ],
      "text/plain": [
       "   Sr No       Date  Startup Name             Industry Vertical  \\\n",
       "0     17 2019-12-20  Lenskart.com                    E-Commerce   \n",
       "1     12 2019-12-17    Healthians  B2B-focused foodtech startup   \n",
       "2     13 2019-12-16       Licious                    E-Commerce   \n",
       "3     14 2019-12-16        InCred                       Finance   \n",
       "4     15 2019-12-14         Trell                         Video   \n",
       "\n",
       "                                SubVertical City  Location  \\\n",
       "0            Online Eyewear Shopping Portal      Faridabad   \n",
       "1              Food Solutions For Corporate      Bengaluru   \n",
       "2  Online Meat And Seafood Ordering Startup      Bengaluru   \n",
       "3             Non-Banking Financial Company         Mumbai   \n",
       "4             Experience Discovery Platform      Bengaluru   \n",
       "\n",
       "                            Investors Name InvestmentnType Amount in USD  \\\n",
       "0                     SoftBank Vision Fund        Series G     231000000   \n",
       "1  Paytm, NPTK, Sabre Partners and Neoplux        Series C      12000000   \n",
       "2                       Vertex Growth Fund        Series E      30000000   \n",
       "3                                      NaN    Debt Funding       5900000   \n",
       "4                      Ruizheng Investment      Seed Round       2000000   \n",
       "\n",
       "   Remarks  Column1       Column2        Column3  \n",
       "0      NaN  VLOOKUP  Startup Name  Amount in USD  \n",
       "1      NaN      NaN    Rein Games       50000000  \n",
       "2      NaN      NaN      CarDekho       70000000  \n",
       "3      NaN      NaN  Dhruva Space       50000000  \n",
       "4      NaN      NaN         Paytm     1000000000  "
      ]
     },
     "execution_count": 13,
     "metadata": {},
     "output_type": "execute_result"
    }
   ],
   "source": [
    "#reading an excel file through PANDAS \n",
    "#df stands for data frame.\n",
    "import pandas as pd\n",
    "xlsx_file=r\"C:\\Users\\nitis\\Desktop\\coursera_data analyst _course\\Handson-labs\\example1.xlsx\"\n",
    "df=pd.read_excel(xlsx_file)\n",
    "\n",
    "df.head()\n",
    "\n",
    "\n"
   ]
  },
  {
   "cell_type": "code",
   "execution_count": 37,
   "metadata": {},
   "outputs": [
    {
     "name": "stdout",
     "output_type": "stream",
     "text": [
      "                       Album Released length\n",
      "0                   Thriller     1982  10.20\n",
      "1              Back in Black     1999  10.30\n",
      "2  The dark side of the moon     2000   9.50\n",
      "3             the body guard     2001   6.30\n",
      "4             the body guard     2001   6.30\n",
      "5              back to track            9.50\n",
      "  length\n",
      "0  10.20\n",
      "1  10.30\n",
      "2   9.50\n",
      "3   6.30\n",
      "4   6.30\n",
      "5   9.50\n"
     ]
    }
   ],
   "source": [
    "#creating a data fram through a dictionary:\n",
    "#keys for the dictionary makes the heading.\n",
    "songs={'Album':['Thriller','Back in Black','The dark side of the moon','the body guard','the body guard','back to track'],\n",
    "       'Released':['1982','1999','2000','2001','2001',''],\n",
    "       'length':['10.20','10.30','9.50','6.30','6.30','9.50']}\n",
    "songs_frame=pd.DataFrame(songs)\n",
    "column1=songs_frame[['length']]   # to access the colums seperately .\n",
    "print(songs_frame)\n",
    "print (column1)"
   ]
  },
  {
   "cell_type": "code",
   "execution_count": 38,
   "metadata": {},
   "outputs": [
    {
     "name": "stdout",
     "output_type": "stream",
     "text": [
      "           Album Released\n",
      "0       Thriller     1982\n",
      "1  Back in Black     1999\n",
      "           Album Released length\n",
      "0       Thriller     1982  10.20\n",
      "1  Back in Black     1999  10.30\n",
      "\n",
      "\n",
      "           Album Released length\n",
      "0       Thriller     1982  10.20\n",
      "1  Back in Black     1999  10.30\n",
      "                       Album Released\n",
      "0                   Thriller     1982\n",
      "1              Back in Black     1999\n",
      "2  The dark side of the moon     2000\n"
     ]
    }
   ],
   "source": [
    "# accessing and reassigning the part of the data_frame through the .iloc[]:\n",
    "z=songs_frame.iloc[0:2,0:2]   # this will print till released. this shows that the 0th index in the column is not included \n",
    "y=songs_frame.iloc[0:2,0:3]   # this will print till length. \n",
    "print(z)\n",
    "print(y)\n",
    "print('\\n')\n",
    "#accessing and reassigning the part of the data_frame through the .loc[]:\n",
    "\n",
    "z1=songs_frame.loc[0:1,'Album':'length']     #from album column to length column\n",
    "print (z1)\n",
    "\n",
    "y1=songs_frame.loc[0:2,'Album':'Released']   #from album column to Released column\n",
    "print (y1)"
   ]
  },
  {
   "cell_type": "code",
   "execution_count": 53,
   "metadata": {},
   "outputs": [
    {
     "name": "stdout",
     "output_type": "stream",
     "text": [
      "                       Album Released length\n",
      "a                   Thriller     1982  10.20\n",
      "b              Back in Black     1999  10.30\n",
      "c  The dark side of the moon     2000   9.50\n",
      "d             the body guard     2001   6.30\n",
      "e             the body guard     2001   6.30\n",
      "f              back to track            9.50\n",
      "['1982' '1999' '2000' '2001' '']\n",
      "            Album Released length\n",
      "d  the body guard     2001   6.30\n",
      "e  the body guard     2001   6.30\n"
     ]
    }
   ],
   "source": [
    "# changing the index of the data_frame to the new type of index:\n",
    "\n",
    "new_df=songs_frame\n",
    "new_df1=songs_frame\n",
    "new_df.index=['a','b','c','d','e','f']\n",
    "print (new_df)\n",
    "\n",
    "#  finding the unique elements with the unique functions:\n",
    "unique_elements = new_df1['Released'].unique() # this will give out the unique elements , the output is a single list\n",
    "print (unique_elements)\n",
    "\n",
    "#unique_frame = new_df1[new_df1['Released'].unique()]\n",
    "# #print (unique_frame)\n",
    "\n",
    "date_sorted = new_df1[new_df1['Released']>'2000']  #  this gives out a new data frame with the values that are specified by your #condition\n",
    "print(date_sorted)\n",
    "\n",
    "date_sorted.to_excel('date_sorted.xlsx')"
   ]
  },
  {
   "cell_type": "code",
   "execution_count": 8,
   "metadata": {},
   "outputs": [
    {
     "name": "stdout",
     "output_type": "stream",
     "text": [
      "  Student  Age Country            Course  Marks\n",
      "0   David   27      UK            Python     85\n",
      "1  Samuel   24  Canada    Data Structure     72\n",
      "2   Terry   22   China  Machine Learning     89\n",
      "3    Evan   32     USA   Web Development     76\n",
      "   Marks\n",
      "0     85\n",
      "1     72\n",
      "2     89\n",
      "3     76\n",
      "\n",
      "\n",
      "  Country            Course\n",
      "0      UK            Python\n",
      "1  Canada    Data Structure\n",
      "2   China  Machine Learning\n",
      "3     USA   Web Development\n",
      "0    85\n",
      "1    72\n",
      "2    89\n",
      "3    76\n",
      "Name: Marks, dtype: int64\n"
     ]
    }
   ],
   "source": [
    "#write your code here\n",
    "import pandas as pd\n",
    "student_data={'Student':['David','Samuel','Terry','Evan'],\n",
    "              'Age':[27,24,22,32],\n",
    "             'Country':['UK','Canada','China','USA'],\n",
    "             'Course':['Python','Data Structure','Machine Learning','Web Development'],\n",
    "             'Marks':[85,72,89,76]}\n",
    "student_data_frame=pd.DataFrame(student_data)\n",
    "\n",
    "print (student_data_frame)\n",
    "\n",
    "#retrive the marks column and assign it to a variable:\n",
    "b = student_data_frame[['Marks']]\n",
    "print (b)\n",
    "print ('\\n')\n",
    "#Problem 3: Retrieve the Country and Course columns and assign it to a variable c\n",
    "c= student_data_frame[['Country','Course']]\n",
    "print (c)\n",
    "\n",
    "#to view the column in form of series use onlu one bracket:\n",
    "\n",
    "ser1 = student_data_frame['Marks']\n",
    "print (ser1)"
   ]
  },
  {
   "cell_type": "code",
   "execution_count": 10,
   "metadata": {},
   "outputs": [
    {
     "data": {
      "text/plain": [
       "[<matplotlib.lines.Line2D at 0x223f7fa3050>]"
      ]
     },
     "execution_count": 10,
     "metadata": {},
     "output_type": "execute_result"
    },
    {
     "data": {
      "image/png": "[encoded data removed]",
      "text/plain": [
       "<Figure size 640x480 with 1 Axes>"
      ]
     },
     "metadata": {},
     "output_type": "display_data"
    }
   ],
   "source": [
    "import numpy as np\n",
    "import matplotlib.pyplot as plt\n",
    "pie = np.pi\n",
    "x=np.linspace(0,2*pie,100)\n",
    "y=np.sin(x)\n",
    "%matplotlib inline\n",
    "plt.plot(x,y)"
   ]
  },
  {
   "cell_type": "code",
   "execution_count": 8,
   "metadata": {},
   "outputs": [
    {
     "name": "stdout",
     "output_type": "stream",
     "text": [
      "12\n",
      "2\n",
      "(3, 4)\n",
      "[1 2]\n",
      "[[ 1  4]\n",
      " [ 5 12]\n",
      " [ 9 20]]\n"
     ]
    }
   ],
   "source": [
    "#2-d arrays using numpy\n",
    "import numpy as np\n",
    "a = [[1, 2, 3, 4], [5, 6, 7, 8], [9, 10, 11, 12]]\n",
    "A=np.array(a) #creating an array in numpy\n",
    "print (A.size)  #this give the total size of the array all the elements present in the array\n",
    "print (A.ndim)  #this give the dimension of the array\n",
    "print (A.shape) #this gives the n*m of the array \n",
    "print (A[0,0:2])\n",
    "\n",
    "B = np.array([[0, 1], [1, 0], [1, 1], [-1, 0]])\n",
    "\n",
    "mat_mult = np.dot(A,B) #this give the complex matrix multiplication as result\n",
    "print (mat_mult) \n",
    "\n"
   ]
  },
  {
   "cell_type": "code",
   "execution_count": null,
   "metadata": {},
   "outputs": [],
   "source": []
  }
 ],
 "metadata": {
  "kernelspec": {
   "display_name": "Python 3",
   "language": "python",
   "name": "python3"
  },
  "language_info": {
   "codemirror_mode": {
    "name": "ipython",
    "version": 3
   },
   "file_extension": ".py",
   "mimetype": "text/x-python",
   "name": "python",
   "nbconvert_exporter": "python",
   "pygments_lexer": "ipython3",
   "version": "3.12.9"
  }
 },
 "nbformat": 4,
 "nbformat_minor": 2
}
